{
 "cells": [
  {
   "cell_type": "code",
   "execution_count": 1,
   "metadata": {},
   "outputs": [],
   "source": [
    "import face_detection\n",
    "import cv2\n",
    "import time\n",
    "import matplotlib.pyplot as plt\n",
    "import gc"
   ]
  },
  {
   "cell_type": "code",
   "execution_count": null,
   "metadata": {},
   "outputs": [],
   "source": [
    "def RNRN50(img, frame_count = 0):\n",
    "    detector = face_detection.build_detector(\"RetinaNetResNet50\", confidence_threshold=.5, nms_iou_threshold=.3)\n",
    "    start = time.time()\n",
    "    detections = detector.detect(img)\n",
    "    \n",
    "    if len(detections) > 0:\n",
    "        for face in detections:\n",
    "            pred_bbox = face\n",
    "            pred_bbox[2] = pred_bbox[2] - pred_bbox[0]\n",
    "            pred_bbox[3] = pred_bbox[3] - pred_bbox[1]\n",
    "            pred_bbox = [int(i) for i in pred_bbox[:4]]\n",
    "            #cv2.rectangle(img,pred_bbox,(0,255,0),1)\n",
    "            gc.collect()\n",
    "    filename = f\"D:/Frames/frame_{frame_count}.jpg\"\n",
    "    cv2.imwrite(filename, img)"
   ]
  },
  {
   "cell_type": "code",
   "execution_count": null,
   "metadata": {},
   "outputs": [],
   "source": [
    "frame_count = 0\n",
    "cap = cv2.VideoCapture(0)\n",
    "if not cap.isOpened():\n",
    "    print(\"Не удалось открыть видеокамеру\")\n",
    "    exit()\n",
    "time_start = time.time()\n",
    "while (time.time() - time_start) <= 1:\n",
    "    ret, frame = cap.read()\n",
    "    if not ret:\n",
    "        print(\"Не удалось получить кадр\")\n",
    "        break\n",
    "    #cv2.imshow(\"Frame\", frame)\n",
    "    RNRN50(frame, frame_count)\n",
    "    frame_count += 1\n",
    "    if cv2.waitKey(1) & 0xFF == ord('q'):\n",
    "        break\n",
    "    \n",
    "cap.release()\n",
    "cv2.destroyAllWindows()"
   ]
  },
  {
   "cell_type": "code",
   "execution_count": null,
   "metadata": {},
   "outputs": [],
   "source": []
  },
  {
   "cell_type": "code",
   "execution_count": null,
   "metadata": {},
   "outputs": [],
   "source": []
  },
  {
   "cell_type": "code",
   "execution_count": null,
   "metadata": {},
   "outputs": [],
   "source": []
  },
  {
   "cell_type": "code",
   "execution_count": null,
   "metadata": {},
   "outputs": [],
   "source": []
  }
 ],
 "metadata": {
  "kernelspec": {
   "display_name": "Python 3",
   "language": "python",
   "name": "python3"
  },
  "language_info": {
   "codemirror_mode": {
    "name": "ipython",
    "version": 3
   },
   "file_extension": ".py",
   "mimetype": "text/x-python",
   "name": "python",
   "nbconvert_exporter": "python",
   "pygments_lexer": "ipython3",
   "version": "3.11.4"
  }
 },
 "nbformat": 4,
 "nbformat_minor": 2
}
